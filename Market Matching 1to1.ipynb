{
 "cells": [
  {
   "cell_type": "code",
   "execution_count": 6,
   "metadata": {},
   "outputs": [],
   "source": [
    "# Import libraries\n",
    "library(dplyr)\n",
    "library(ggplot2)\n",
    "library(magrittr)\n",
    "library(nbpMatching)\n",
    "library(tidyr)"
   ]
  },
  {
   "cell_type": "code",
   "execution_count": 7,
   "metadata": {},
   "outputs": [
    {
     "data": {
      "text/html": [
       "<table>\n",
       "<thead><tr><th scope=col>cbsa_name</th><th scope=col>X1Q17newacct</th><th scope=col>X2Q17newacct</th><th scope=col>X3Q17newacct</th><th scope=col>X4Q17newacct</th><th scope=col>X1Q18newacct</th><th scope=col>X1Q17newbook</th><th scope=col>X2Q17newbook</th><th scope=col>X3Q17newbook</th><th scope=col>X4Q17newbook</th><th scope=col>...</th><th scope=col>X3Q17newsitter</th><th scope=col>X4Q17newsitter</th><th scope=col>X1Q18newsitter</th><th scope=col>TopMarket</th><th scope=col>dma_code</th><th scope=col>dma_name</th><th scope=col>total_pop</th><th scope=col>target_pop</th><th scope=col>total_hh</th><th scope=col>tv_hh</th></tr></thead>\n",
       "<tbody>\n",
       "\t<tr><td>Albany-Schenectady-Troy NY      </td><td> 808                            </td><td> 1410                           </td><td> 2831                           </td><td> 1895                           </td><td> 1718                           </td><td>  82                            </td><td> 200                            </td><td> 306                            </td><td> 221                            </td><td>...                             </td><td> 108                            </td><td> 80                             </td><td>109                             </td><td>0                               </td><td>532                             </td><td>Albany-Schenectady-Troy         </td><td>11189                           </td><td> 173                            </td><td> 574700                         </td><td> 522590                         </td></tr>\n",
       "\t<tr><td>Albuquerque NM                  </td><td> 852                            </td><td> 1245                           </td><td> 1422                           </td><td> 1209                           </td><td>  999                           </td><td> 137                            </td><td> 259                            </td><td> 291                            </td><td> 269                            </td><td>...                             </td><td>  94                            </td><td>110                             </td><td> 68                             </td><td>0                               </td><td>790                             </td><td>Albuquerque-Santa Fe            </td><td>14819                           </td><td>2242                            </td><td> 748300                         </td><td> 662570                         </td></tr>\n",
       "\t<tr><td>Atlanta-Sandy Springs-Roswell GA</td><td>6274                            </td><td>12256                           </td><td>13374                           </td><td>11631                           </td><td>16856                           </td><td>1220                            </td><td>2776                            </td><td>3019                            </td><td>2534                            </td><td>...                             </td><td>1050                            </td><td>834                             </td><td>883                             </td><td>1                               </td><td>524                             </td><td>Atlanta                         </td><td>51937                           </td><td>6821                            </td><td>2520200                         </td><td>2385730                         </td></tr>\n",
       "\t<tr><td>Austin-Round Rock TX            </td><td>5240                            </td><td> 7541                           </td><td> 7471                           </td><td> 7091                           </td><td> 5832                           </td><td>1145                            </td><td>2257                            </td><td>2236                            </td><td>2319                            </td><td>...                             </td><td> 850                            </td><td>656                             </td><td>641                             </td><td>1                               </td><td>635                             </td><td>Austin                          </td><td>16692                           </td><td>3274                            </td><td> 824700                         </td><td> 745640                         </td></tr>\n",
       "\t<tr><td>Baltimore-Columbia-Towson MD    </td><td>3299                            </td><td> 6228                           </td><td> 7248                           </td><td> 5277                           </td><td> 6316                           </td><td> 716                            </td><td>1522                            </td><td>1781                            </td><td>1255                            </td><td>...                             </td><td> 586                            </td><td>435                             </td><td>490                             </td><td>1                               </td><td>512                             </td><td>Baltimore                       </td><td>23447                           </td><td> 376                            </td><td>1152000                         </td><td>1099890                         </td></tr>\n",
       "\t<tr><td>Birmingham-Hoover AL            </td><td> 724                            </td><td> 1158                           </td><td> 1328                           </td><td> 1156                           </td><td> 1215                           </td><td>  73                            </td><td> 251                            </td><td> 251                            </td><td> 248                            </td><td>...                             </td><td> 130                            </td><td> 92                             </td><td>103                             </td><td>0                               </td><td>630                             </td><td>Birmingham (Ann and Tusc)       </td><td>14767                           </td><td> 235                            </td><td> 750000                         </td><td> 686080                         </td></tr>\n",
       "</tbody>\n",
       "</table>\n"
      ],
      "text/latex": [
       "\\begin{tabular}{r|llllllllllllllllllllllllllll}\n",
       " cbsa\\_name & X1Q17newacct & X2Q17newacct & X3Q17newacct & X4Q17newacct & X1Q18newacct & X1Q17newbook & X2Q17newbook & X3Q17newbook & X4Q17newbook & ... & X3Q17newsitter & X4Q17newsitter & X1Q18newsitter & TopMarket & dma\\_code & dma\\_name & total\\_pop & target\\_pop & total\\_hh & tv\\_hh\\\\\n",
       "\\hline\n",
       "\t Albany-Schenectady-Troy NY       &  808                             &  1410                            &  2831                            &  1895                            &  1718                            &   82                             &  200                             &  306                             &  221                             & ...                              &  108                             &  80                              & 109                              & 0                                & 532                              & Albany-Schenectady-Troy          & 11189                            &  173                             &  574700                          &  522590                         \\\\\n",
       "\t Albuquerque NM                   &  852                             &  1245                            &  1422                            &  1209                            &   999                            &  137                             &  259                             &  291                             &  269                             & ...                              &   94                             & 110                              &  68                              & 0                                & 790                              & Albuquerque-Santa Fe             & 14819                            & 2242                             &  748300                          &  662570                         \\\\\n",
       "\t Atlanta-Sandy Springs-Roswell GA & 6274                             & 12256                            & 13374                            & 11631                            & 16856                            & 1220                             & 2776                             & 3019                             & 2534                             & ...                              & 1050                             & 834                              & 883                              & 1                                & 524                              & Atlanta                          & 51937                            & 6821                             & 2520200                          & 2385730                         \\\\\n",
       "\t Austin-Round Rock TX             & 5240                             &  7541                            &  7471                            &  7091                            &  5832                            & 1145                             & 2257                             & 2236                             & 2319                             & ...                              &  850                             & 656                              & 641                              & 1                                & 635                              & Austin                           & 16692                            & 3274                             &  824700                          &  745640                         \\\\\n",
       "\t Baltimore-Columbia-Towson MD     & 3299                             &  6228                            &  7248                            &  5277                            &  6316                            &  716                             & 1522                             & 1781                             & 1255                             & ...                              &  586                             & 435                              & 490                              & 1                                & 512                              & Baltimore                        & 23447                            &  376                             & 1152000                          & 1099890                         \\\\\n",
       "\t Birmingham-Hoover AL             &  724                             &  1158                            &  1328                            &  1156                            &  1215                            &   73                             &  251                             &  251                             &  248                             & ...                              &  130                             &  92                              & 103                              & 0                                & 630                              & Birmingham (Ann and Tusc)        & 14767                            &  235                             &  750000                          &  686080                         \\\\\n",
       "\\end{tabular}\n"
      ],
      "text/markdown": [
       "\n",
       "cbsa_name | X1Q17newacct | X2Q17newacct | X3Q17newacct | X4Q17newacct | X1Q18newacct | X1Q17newbook | X2Q17newbook | X3Q17newbook | X4Q17newbook | ... | X3Q17newsitter | X4Q17newsitter | X1Q18newsitter | TopMarket | dma_code | dma_name | total_pop | target_pop | total_hh | tv_hh | \n",
       "|---|---|---|---|---|---|\n",
       "| Albany-Schenectady-Troy NY       |  808                             |  1410                            |  2831                            |  1895                            |  1718                            |   82                             |  200                             |  306                             |  221                             | ...                              |  108                             |  80                              | 109                              | 0                                | 532                              | Albany-Schenectady-Troy          | 11189                            |  173                             |  574700                          |  522590                          | \n",
       "| Albuquerque NM                   |  852                             |  1245                            |  1422                            |  1209                            |   999                            |  137                             |  259                             |  291                             |  269                             | ...                              |   94                             | 110                              |  68                              | 0                                | 790                              | Albuquerque-Santa Fe             | 14819                            | 2242                             |  748300                          |  662570                          | \n",
       "| Atlanta-Sandy Springs-Roswell GA | 6274                             | 12256                            | 13374                            | 11631                            | 16856                            | 1220                             | 2776                             | 3019                             | 2534                             | ...                              | 1050                             | 834                              | 883                              | 1                                | 524                              | Atlanta                          | 51937                            | 6821                             | 2520200                          | 2385730                          | \n",
       "| Austin-Round Rock TX             | 5240                             |  7541                            |  7471                            |  7091                            |  5832                            | 1145                             | 2257                             | 2236                             | 2319                             | ...                              |  850                             | 656                              | 641                              | 1                                | 635                              | Austin                           | 16692                            | 3274                             |  824700                          |  745640                          | \n",
       "| Baltimore-Columbia-Towson MD     | 3299                             |  6228                            |  7248                            |  5277                            |  6316                            |  716                             | 1522                             | 1781                             | 1255                             | ...                              |  586                             | 435                              | 490                              | 1                                | 512                              | Baltimore                        | 23447                            |  376                             | 1152000                          | 1099890                          | \n",
       "| Birmingham-Hoover AL             |  724                             |  1158                            |  1328                            |  1156                            |  1215                            |   73                             |  251                             |  251                             |  248                             | ...                              |  130                             |  92                              | 103                              | 0                                | 630                              | Birmingham (Ann and Tusc)        | 14767                            |  235                             |  750000                          |  686080                          | \n",
       "\n",
       "\n"
      ],
      "text/plain": [
       "  cbsa_name                        X1Q17newacct X2Q17newacct X3Q17newacct\n",
       "1 Albany-Schenectady-Troy NY        808          1410         2831       \n",
       "2 Albuquerque NM                    852          1245         1422       \n",
       "3 Atlanta-Sandy Springs-Roswell GA 6274         12256        13374       \n",
       "4 Austin-Round Rock TX             5240          7541         7471       \n",
       "5 Baltimore-Columbia-Towson MD     3299          6228         7248       \n",
       "6 Birmingham-Hoover AL              724          1158         1328       \n",
       "  X4Q17newacct X1Q18newacct X1Q17newbook X2Q17newbook X3Q17newbook X4Q17newbook\n",
       "1  1895         1718          82          200          306          221        \n",
       "2  1209          999         137          259          291          269        \n",
       "3 11631        16856        1220         2776         3019         2534        \n",
       "4  7091         5832        1145         2257         2236         2319        \n",
       "5  5277         6316         716         1522         1781         1255        \n",
       "6  1156         1215          73          251          251          248        \n",
       "  ... X3Q17newsitter X4Q17newsitter X1Q18newsitter TopMarket dma_code\n",
       "1 ...  108            80            109            0         532     \n",
       "2 ...   94           110             68            0         790     \n",
       "3 ... 1050           834            883            1         524     \n",
       "4 ...  850           656            641            1         635     \n",
       "5 ...  586           435            490            1         512     \n",
       "6 ...  130            92            103            0         630     \n",
       "  dma_name                  total_pop target_pop total_hh tv_hh  \n",
       "1 Albany-Schenectady-Troy   11189      173        574700   522590\n",
       "2 Albuquerque-Santa Fe      14819     2242        748300   662570\n",
       "3 Atlanta                   51937     6821       2520200  2385730\n",
       "4 Austin                    16692     3274        824700   745640\n",
       "5 Baltimore                 23447      376       1152000  1099890\n",
       "6 Birmingham (Ann and Tusc) 14767      235        750000   686080"
      ]
     },
     "metadata": {},
     "output_type": "display_data"
    },
    {
     "data": {
      "image/png": "[encoded data removed]",
      "text/plain": [
       "plot without title"
      ]
     },
     "metadata": {},
     "output_type": "display_data"
    }
   ],
   "source": [
    "# Read input data\n",
    "df<-read.csv(file = 'Data/Input.csv')\n",
    "\n",
    "# Look for missing values\n",
    "library(VIM)\n",
    "aggr(df)\n",
    "df%<>%filter(!is.na(total_pop))\n",
    "df%>%head"
   ]
  },
  {
   "cell_type": "code",
   "execution_count": 3,
   "metadata": {},
   "outputs": [
    {
     "data": {
      "text/html": [
       "<table>\n",
       "<thead><tr><th scope=col>dma_code</th><th scope=col>count</th></tr></thead>\n",
       "<tbody>\n",
       "\t<tr><td>501</td><td>1  </td></tr>\n",
       "\t<tr><td>504</td><td>1  </td></tr>\n",
       "\t<tr><td>505</td><td>1  </td></tr>\n",
       "\t<tr><td>506</td><td>1  </td></tr>\n",
       "\t<tr><td>508</td><td>1  </td></tr>\n",
       "\t<tr><td>510</td><td>1  </td></tr>\n",
       "</tbody>\n",
       "</table>\n"
      ],
      "text/latex": [
       "\\begin{tabular}{r|ll}\n",
       " dma\\_code & count\\\\\n",
       "\\hline\n",
       "\t 501 & 1  \\\\\n",
       "\t 504 & 1  \\\\\n",
       "\t 505 & 1  \\\\\n",
       "\t 506 & 1  \\\\\n",
       "\t 508 & 1  \\\\\n",
       "\t 510 & 1  \\\\\n",
       "\\end{tabular}\n"
      ],
      "text/markdown": [
       "\n",
       "dma_code | count | \n",
       "|---|---|---|---|---|---|\n",
       "| 501 | 1   | \n",
       "| 504 | 1   | \n",
       "| 505 | 1   | \n",
       "| 506 | 1   | \n",
       "| 508 | 1   | \n",
       "| 510 | 1   | \n",
       "\n",
       "\n"
      ],
      "text/plain": [
       "  dma_code count\n",
       "1 501      1    \n",
       "2 504      1    \n",
       "3 505      1    \n",
       "4 506      1    \n",
       "5 508      1    \n",
       "6 510      1    "
      ]
     },
     "metadata": {},
     "output_type": "display_data"
    }
   ],
   "source": [
    "# See if there are dups\n",
    "df%>%group_by(dma_code)%>%summarise(count=n())%>%arrange(desc(count))%>%head"
   ]
  },
  {
   "cell_type": "code",
   "execution_count": 4,
   "metadata": {},
   "outputs": [
    {
     "name": "stderr",
     "output_type": "stream",
     "text": [
      "Warning message in nbpMatching::gendistance(covariate = df, idcol = 23):\n",
      "\"consider converting factor variables [cbsa_name, dma_name] before calling gendistance\""
     ]
    },
    {
     "data": {
      "text/html": [
       "<table>\n",
       "<thead><tr><th></th><th scope=col>532</th><th scope=col>790</th><th scope=col>524</th><th scope=col>635</th><th scope=col>512</th><th scope=col>630</th><th scope=col>506</th><th scope=col>514</th><th scope=col>571</th><th scope=col>517</th><th scope=col>...</th><th scope=col>819</th><th scope=col>881</th><th scope=col>609</th><th scope=col>555</th><th scope=col>539</th><th scope=col>789</th><th scope=col>671</th><th scope=col>744</th><th scope=col>544</th><th scope=col>511</th></tr></thead>\n",
       "<tbody>\n",
       "\t<tr><th scope=row>532</th><td>0.000000 </td><td>5.922118 </td><td> 9.504866</td><td> 8.767870</td><td>5.516759 </td><td>6.013559 </td><td> 8.809638</td><td>5.178580 </td><td>5.838288 </td><td>7.671588 </td><td>...      </td><td> 8.976526</td><td>4.862420 </td><td>6.064784 </td><td>5.212846 </td><td>8.311966 </td><td>5.734393 </td><td>5.459007 </td><td>6.175863 </td><td>6.933116 </td><td> 9.029392</td></tr>\n",
       "\t<tr><th scope=row>790</th><td>5.922118 </td><td>0.000000 </td><td> 8.480369</td><td> 7.699423</td><td>6.343097 </td><td>3.998697 </td><td> 8.110787</td><td>2.892846 </td><td>3.134274 </td><td>6.882018 </td><td>...      </td><td> 8.630533</td><td>4.054788 </td><td>5.010675 </td><td>4.051671 </td><td>6.150411 </td><td>4.722715 </td><td>2.932781 </td><td>4.574982 </td><td>4.781922 </td><td> 8.378139</td></tr>\n",
       "\t<tr><th scope=row>524</th><td>9.504866 </td><td>8.480369 </td><td> 0.000000</td><td>10.368286</td><td>8.334837 </td><td>8.394703 </td><td>10.328973</td><td>7.389067 </td><td>8.182409 </td><td>9.491043 </td><td>...      </td><td>11.022045</td><td>8.149499 </td><td>8.242532 </td><td>8.181951 </td><td>9.673626 </td><td>8.193448 </td><td>8.005748 </td><td>8.467172 </td><td>8.756994 </td><td>10.746293</td></tr>\n",
       "\t<tr><th scope=row>635</th><td>8.767870 </td><td>7.699423 </td><td>10.368286</td><td> 0.000000</td><td>8.138662 </td><td>7.620290 </td><td> 9.535645</td><td>6.695903 </td><td>7.658934 </td><td>8.820514 </td><td>...      </td><td>10.509786</td><td>7.805710 </td><td>7.841107 </td><td>6.874328 </td><td>9.222757 </td><td>7.629897 </td><td>7.072693 </td><td>7.163650 </td><td>8.248081 </td><td>10.007294</td></tr>\n",
       "\t<tr><th scope=row>512</th><td>5.516759 </td><td>6.343097 </td><td> 8.334837</td><td> 8.138662</td><td>0.000000 </td><td>5.589092 </td><td> 8.456626</td><td>4.821741 </td><td>5.863459 </td><td>7.431587 </td><td>...      </td><td> 8.788178</td><td>5.002675 </td><td>6.534900 </td><td>4.571849 </td><td>7.107382 </td><td>6.764130 </td><td>5.182057 </td><td>5.851472 </td><td>7.548855 </td><td> 7.943204</td></tr>\n",
       "\t<tr><th scope=row>630</th><td>6.013559 </td><td>3.998697 </td><td> 8.394703</td><td> 7.620290</td><td>5.589092 </td><td>0.000000 </td><td> 7.090662</td><td>3.402509 </td><td>3.709902 </td><td>6.851260 </td><td>...      </td><td> 8.314380</td><td>4.080498 </td><td>4.649030 </td><td>2.850113 </td><td>5.621766 </td><td>3.995839 </td><td>3.385438 </td><td>2.353091 </td><td>4.798518 </td><td> 8.146930</td></tr>\n",
       "</tbody>\n",
       "</table>\n"
      ],
      "text/latex": [
       "\\begin{tabular}{r|llllllllllllllllllllllllllllllllllllllllllllllllllllllllllllllll}\n",
       "  & 532 & 790 & 524 & 635 & 512 & 630 & 506 & 514 & 571 & 517 & ... & 819 & 881 & 609 & 555 & 539 & 789 & 671 & 744 & 544 & 511\\\\\n",
       "\\hline\n",
       "\t532 & 0.000000  & 5.922118  &  9.504866 &  8.767870 & 5.516759  & 6.013559  &  8.809638 & 5.178580  & 5.838288  & 7.671588  & ...       &  8.976526 & 4.862420  & 6.064784  & 5.212846  & 8.311966  & 5.734393  & 5.459007  & 6.175863  & 6.933116  &  9.029392\\\\\n",
       "\t790 & 5.922118  & 0.000000  &  8.480369 &  7.699423 & 6.343097  & 3.998697  &  8.110787 & 2.892846  & 3.134274  & 6.882018  & ...       &  8.630533 & 4.054788  & 5.010675  & 4.051671  & 6.150411  & 4.722715  & 2.932781  & 4.574982  & 4.781922  &  8.378139\\\\\n",
       "\t524 & 9.504866  & 8.480369  &  0.000000 & 10.368286 & 8.334837  & 8.394703  & 10.328973 & 7.389067  & 8.182409  & 9.491043  & ...       & 11.022045 & 8.149499  & 8.242532  & 8.181951  & 9.673626  & 8.193448  & 8.005748  & 8.467172  & 8.756994  & 10.746293\\\\\n",
       "\t635 & 8.767870  & 7.699423  & 10.368286 &  0.000000 & 8.138662  & 7.620290  &  9.535645 & 6.695903  & 7.658934  & 8.820514  & ...       & 10.509786 & 7.805710  & 7.841107  & 6.874328  & 9.222757  & 7.629897  & 7.072693  & 7.163650  & 8.248081  & 10.007294\\\\\n",
       "\t512 & 5.516759  & 6.343097  &  8.334837 &  8.138662 & 0.000000  & 5.589092  &  8.456626 & 4.821741  & 5.863459  & 7.431587  & ...       &  8.788178 & 5.002675  & 6.534900  & 4.571849  & 7.107382  & 6.764130  & 5.182057  & 5.851472  & 7.548855  &  7.943204\\\\\n",
       "\t630 & 6.013559  & 3.998697  &  8.394703 &  7.620290 & 5.589092  & 0.000000  &  7.090662 & 3.402509  & 3.709902  & 6.851260  & ...       &  8.314380 & 4.080498  & 4.649030  & 2.850113  & 5.621766  & 3.995839  & 3.385438  & 2.353091  & 4.798518  &  8.146930\\\\\n",
       "\\end{tabular}\n"
      ],
      "text/markdown": [
       "\n",
       "| <!--/--> | 532 | 790 | 524 | 635 | 512 | 630 | 506 | 514 | 571 | 517 | ... | 819 | 881 | 609 | 555 | 539 | 789 | 671 | 744 | 544 | 511 | \n",
       "|---|---|---|---|---|---|\n",
       "| 532 | 0.000000  | 5.922118  |  9.504866 |  8.767870 | 5.516759  | 6.013559  |  8.809638 | 5.178580  | 5.838288  | 7.671588  | ...       |  8.976526 | 4.862420  | 6.064784  | 5.212846  | 8.311966  | 5.734393  | 5.459007  | 6.175863  | 6.933116  |  9.029392 | \n",
       "| 790 | 5.922118  | 0.000000  |  8.480369 |  7.699423 | 6.343097  | 3.998697  |  8.110787 | 2.892846  | 3.134274  | 6.882018  | ...       |  8.630533 | 4.054788  | 5.010675  | 4.051671  | 6.150411  | 4.722715  | 2.932781  | 4.574982  | 4.781922  |  8.378139 | \n",
       "| 524 | 9.504866  | 8.480369  |  0.000000 | 10.368286 | 8.334837  | 8.394703  | 10.328973 | 7.389067  | 8.182409  | 9.491043  | ...       | 11.022045 | 8.149499  | 8.242532  | 8.181951  | 9.673626  | 8.193448  | 8.005748  | 8.467172  | 8.756994  | 10.746293 | \n",
       "| 635 | 8.767870  | 7.699423  | 10.368286 |  0.000000 | 8.138662  | 7.620290  |  9.535645 | 6.695903  | 7.658934  | 8.820514  | ...       | 10.509786 | 7.805710  | 7.841107  | 6.874328  | 9.222757  | 7.629897  | 7.072693  | 7.163650  | 8.248081  | 10.007294 | \n",
       "| 512 | 5.516759  | 6.343097  |  8.334837 |  8.138662 | 0.000000  | 5.589092  |  8.456626 | 4.821741  | 5.863459  | 7.431587  | ...       |  8.788178 | 5.002675  | 6.534900  | 4.571849  | 7.107382  | 6.764130  | 5.182057  | 5.851472  | 7.548855  |  7.943204 | \n",
       "| 630 | 6.013559  | 3.998697  |  8.394703 |  7.620290 | 5.589092  | 0.000000  |  7.090662 | 3.402509  | 3.709902  | 6.851260  | ...       |  8.314380 | 4.080498  | 4.649030  | 2.850113  | 5.621766  | 3.995839  | 3.385438  | 2.353091  | 4.798518  |  8.146930 | \n",
       "\n",
       "\n"
      ],
      "text/plain": [
       "    532      790      524       635       512      630      506       514     \n",
       "532 0.000000 5.922118  9.504866  8.767870 5.516759 6.013559  8.809638 5.178580\n",
       "790 5.922118 0.000000  8.480369  7.699423 6.343097 3.998697  8.110787 2.892846\n",
       "524 9.504866 8.480369  0.000000 10.368286 8.334837 8.394703 10.328973 7.389067\n",
       "635 8.767870 7.699423 10.368286  0.000000 8.138662 7.620290  9.535645 6.695903\n",
       "512 5.516759 6.343097  8.334837  8.138662 0.000000 5.589092  8.456626 4.821741\n",
       "630 6.013559 3.998697  8.394703  7.620290 5.589092 0.000000  7.090662 3.402509\n",
       "    571      517      ... 819       881      609      555      539     \n",
       "532 5.838288 7.671588 ...  8.976526 4.862420 6.064784 5.212846 8.311966\n",
       "790 3.134274 6.882018 ...  8.630533 4.054788 5.010675 4.051671 6.150411\n",
       "524 8.182409 9.491043 ... 11.022045 8.149499 8.242532 8.181951 9.673626\n",
       "635 7.658934 8.820514 ... 10.509786 7.805710 7.841107 6.874328 9.222757\n",
       "512 5.863459 7.431587 ...  8.788178 5.002675 6.534900 4.571849 7.107382\n",
       "630 3.709902 6.851260 ...  8.314380 4.080498 4.649030 2.850113 5.621766\n",
       "    789      671      744      544      511      \n",
       "532 5.734393 5.459007 6.175863 6.933116  9.029392\n",
       "790 4.722715 2.932781 4.574982 4.781922  8.378139\n",
       "524 8.193448 8.005748 8.467172 8.756994 10.746293\n",
       "635 7.629897 7.072693 7.163650 8.248081 10.007294\n",
       "512 6.764130 5.182057 5.851472 7.548855  7.943204\n",
       "630 3.995839 3.385438 2.353091 4.798518  8.146930"
      ]
     },
     "metadata": {},
     "output_type": "display_data"
    }
   ],
   "source": [
    "# Create distance matrix\n",
    "df_dist<-nbpMatching::gendistance(covariate = df,idcol = 23)\n",
    "dist_matrix<-nbpMatching::distancematrix(df_dist)\n",
    "dist_matrix%>%head"
   ]
  },
  {
   "cell_type": "code",
   "execution_count": 5,
   "metadata": {},
   "outputs": [
    {
     "data": {
      "text/html": [
       "<dl class=dl-horizontal>\n",
       "\t<dt>532</dt>\n",
       "\t\t<dd>532-616</dd>\n",
       "\t<dt>790</dt>\n",
       "\t\t<dd>514-790</dd>\n",
       "\t<dt>524</dt>\n",
       "\t\t<dd>506-524</dd>\n",
       "\t<dt>635</dt>\n",
       "\t\t<dd>635-659</dd>\n",
       "\t<dt>512</dt>\n",
       "\t\t<dd>512-560</dd>\n",
       "\t<dt>630</dt>\n",
       "\t\t<dd>563-630</dd>\n",
       "</dl>\n",
       "\n",
       "<details>\n",
       "\t<summary style=display:list-item;cursor:pointer>\n",
       "\t\t<strong>Levels</strong>:\n",
       "\t</summary>\n",
       "\t<ol class=list-inline>\n",
       "\t\t<li>'501-803'</li>\n",
       "\t\t<li>'504-862'</li>\n",
       "\t\t<li>'505-534'</li>\n",
       "\t\t<li>'506-524'</li>\n",
       "\t\t<li>'508-622'</li>\n",
       "\t\t<li>'510-641'</li>\n",
       "\t\t<li>'511-613'</li>\n",
       "\t\t<li>'512-560'</li>\n",
       "\t\t<li>'514-790'</li>\n",
       "\t\t<li>'515-535'</li>\n",
       "\t\t<li>'517-753'</li>\n",
       "\t\t<li>'518-521'</li>\n",
       "\t\t<li>'527-617'</li>\n",
       "\t\t<li>'528-539'</li>\n",
       "\t\t<li>'529-679'</li>\n",
       "\t\t<li>'532-616'</li>\n",
       "\t\t<li>'533-557'</li>\n",
       "\t\t<li>'538-881'</li>\n",
       "\t\t<li>'544-561'</li>\n",
       "\t\t<li>'555-640'</li>\n",
       "\t\t<li>'556-770'</li>\n",
       "\t\t<li>'563-630'</li>\n",
       "\t\t<li>'571-671'</li>\n",
       "\t\t<li>'602-839'</li>\n",
       "\t\t<li>'609-623'</li>\n",
       "\t\t<li>'618-807'</li>\n",
       "\t\t<li>'635-659'</li>\n",
       "\t\t<li>'650-744'</li>\n",
       "\t\t<li>'751-819'</li>\n",
       "\t\t<li>'752-789'</li>\n",
       "\t\t<li>'765-866'</li>\n",
       "\t\t<li>'820-825'</li>\n",
       "\t</ol>\n",
       "</details>"
      ],
      "text/latex": [
       "\\begin{description*}\n",
       "\\item[532] 532-616\n",
       "\\item[790] 514-790\n",
       "\\item[524] 506-524\n",
       "\\item[635] 635-659\n",
       "\\item[512] 512-560\n",
       "\\item[630] 563-630\n",
       "\\end{description*}\n",
       "\n",
       "\\emph{Levels}: \\begin{enumerate*}\n",
       "\\item '501-803'\n",
       "\\item '504-862'\n",
       "\\item '505-534'\n",
       "\\item '506-524'\n",
       "\\item '508-622'\n",
       "\\item '510-641'\n",
       "\\item '511-613'\n",
       "\\item '512-560'\n",
       "\\item '514-790'\n",
       "\\item '515-535'\n",
       "\\item '517-753'\n",
       "\\item '518-521'\n",
       "\\item '527-617'\n",
       "\\item '528-539'\n",
       "\\item '529-679'\n",
       "\\item '532-616'\n",
       "\\item '533-557'\n",
       "\\item '538-881'\n",
       "\\item '544-561'\n",
       "\\item '555-640'\n",
       "\\item '556-770'\n",
       "\\item '563-630'\n",
       "\\item '571-671'\n",
       "\\item '602-839'\n",
       "\\item '609-623'\n",
       "\\item '618-807'\n",
       "\\item '635-659'\n",
       "\\item '650-744'\n",
       "\\item '751-819'\n",
       "\\item '752-789'\n",
       "\\item '765-866'\n",
       "\\item '820-825'\n",
       "\\end{enumerate*}\n"
      ],
      "text/markdown": [
       "532\n",
       ":   532-616790\n",
       ":   514-790524\n",
       ":   506-524635\n",
       ":   635-659512\n",
       ":   512-560630\n",
       ":   563-630\n",
       "\n",
       "\n",
       "**Levels**: 1. '501-803'\n",
       "2. '504-862'\n",
       "3. '505-534'\n",
       "4. '506-524'\n",
       "5. '508-622'\n",
       "6. '510-641'\n",
       "7. '511-613'\n",
       "8. '512-560'\n",
       "9. '514-790'\n",
       "10. '515-535'\n",
       "11. '517-753'\n",
       "12. '518-521'\n",
       "13. '527-617'\n",
       "14. '528-539'\n",
       "15. '529-679'\n",
       "16. '532-616'\n",
       "17. '533-557'\n",
       "18. '538-881'\n",
       "19. '544-561'\n",
       "20. '555-640'\n",
       "21. '556-770'\n",
       "22. '563-630'\n",
       "23. '571-671'\n",
       "24. '602-839'\n",
       "25. '609-623'\n",
       "26. '618-807'\n",
       "27. '635-659'\n",
       "28. '650-744'\n",
       "29. '751-819'\n",
       "30. '752-789'\n",
       "31. '765-866'\n",
       "32. '820-825'\n",
       "\n",
       "\n"
      ],
      "text/plain": [
       "    532     790     524     635     512     630 \n",
       "532-616 514-790 506-524 635-659 512-560 563-630 \n",
       "32 Levels: 501-803 504-862 505-534 506-524 508-622 510-641 511-613 ... 820-825"
      ]
     },
     "metadata": {},
     "output_type": "display_data"
    },
    {
     "data": {
      "text/html": [
       "<ol class=list-inline>\n",
       "\t<li>'501-803'</li>\n",
       "\t<li>'504-862'</li>\n",
       "\t<li>'505-534'</li>\n",
       "\t<li>'506-524'</li>\n",
       "\t<li>'508-622'</li>\n",
       "\t<li>'510-641'</li>\n",
       "</ol>\n"
      ],
      "text/latex": [
       "\\begin{enumerate*}\n",
       "\\item '501-803'\n",
       "\\item '504-862'\n",
       "\\item '505-534'\n",
       "\\item '506-524'\n",
       "\\item '508-622'\n",
       "\\item '510-641'\n",
       "\\end{enumerate*}\n"
      ],
      "text/markdown": [
       "1. '501-803'\n",
       "2. '504-862'\n",
       "3. '505-534'\n",
       "4. '506-524'\n",
       "5. '508-622'\n",
       "6. '510-641'\n",
       "\n",
       "\n"
      ],
      "text/plain": [
       "[1] \"501-803\" \"504-862\" \"505-534\" \"506-524\" \"508-622\" \"510-641\""
      ]
     },
     "metadata": {},
     "output_type": "display_data"
    }
   ],
   "source": [
    "# Reformat distance matrix to show pairs side by side\n",
    "matched_df<-nonbimatch(dist_matrix)\n",
    "matched_pairs<-get.sets(matched_df,remove.unpaired = T)\n",
    "matched_pairs%>%head\n",
    "\n",
    "dma_pairs<-levels(matched_pairs)\n",
    "dma_pairs%>%head\n",
    "\n",
    "write.csv(dma_pairs, file = \"DMAPairs.csv\")\n",
    "write.csv(dist_matrix, file = \"DistMatrix.csv\")"
   ]
  },
  {
   "cell_type": "code",
   "execution_count": null,
   "metadata": {},
   "outputs": [],
   "source": []
  }
 ],
 "metadata": {
  "kernelspec": {
   "display_name": "R",
   "language": "R",
   "name": "ir"
  },
  "language_info": {
   "codemirror_mode": "r",
   "file_extension": ".r",
   "mimetype": "text/x-r-source",
   "name": "R",
   "pygments_lexer": "r",
   "version": "3.4.1"
  }
 },
 "nbformat": 4,
 "nbformat_minor": 2
}
